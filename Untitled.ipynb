{
 "cells": [
  {
   "cell_type": "code",
   "execution_count": 1,
   "id": "83912454",
   "metadata": {},
   "outputs": [],
   "source": [
    "from backgammon import Backgammon"
   ]
  },
  {
   "cell_type": "code",
   "execution_count": 2,
   "id": "a526f9db",
   "metadata": {},
   "outputs": [],
   "source": [
    "bg = Backgammon()"
   ]
  },
  {
   "cell_type": "code",
   "execution_count": 37,
   "id": "9c38cfe1",
   "metadata": {},
   "outputs": [
    {
     "name": "stdout",
     "output_type": "stream",
     "text": [
      "[(2, 1), (0, None), (0, None), (0, None), (0, None), (5, 0), (0, None), (3, 0), (0, None), (0, None), (0, None), (5, 1), (5, 0), (0, None), (0, None), (0, None), (3, 1), (0, None), (5, 1), (0, None), (0, None), (0, None), (0, None), (2, 0)]\n"
     ]
    }
   ],
   "source": [
    "print(bg.board)"
   ]
  },
  {
   "cell_type": "code",
   "execution_count": 33,
   "id": "d128df21",
   "metadata": {},
   "outputs": [
    {
     "name": "stdout",
     "output_type": "stream",
     "text": [
      "0\t(2, 1)\n",
      "1\t(0, None)\n",
      "2\t(0, None)\n",
      "3\t(0, None)\n",
      "4\t(0, None)\n",
      "5\t(5, 0)\n",
      "6\t(0, None)\n",
      "7\t(3, 0)\n",
      "8\t(0, None)\n",
      "9\t(0, None)\n",
      "10\t(0, None)\n",
      "11\t(5, 1)\n",
      "12\t(5, 0)\n",
      "13\t(0, None)\n",
      "14\t(0, None)\n",
      "15\t(0, None)\n",
      "16\t(3, 1)\n",
      "17\t(0, None)\n",
      "18\t(5, 1)\n",
      "19\t(0, None)\n",
      "20\t(0, None)\n",
      "21\t(0, None)\n",
      "22\t(0, None)\n",
      "23\t(2, 0)\n"
     ]
    }
   ],
   "source": [
    "print(\n",
    "    '\\n'.join(\n",
    "        [f'{i}\\t{v}' for i,v in enumerate(bg.board)]\n",
    "))"
   ]
  },
  {
   "cell_type": "code",
   "execution_count": 10,
   "id": "c545ecc4",
   "metadata": {},
   "outputs": [
    {
     "name": "stdout",
     "output_type": "stream",
     "text": [
      "[(0, 2), (11, 5), (16, 3), (18, 5)]\n"
     ]
    }
   ],
   "source": [
    "print([(i,x[0]) for i,x in enumerate(bg.board) if x[1]==1])"
   ]
  },
  {
   "cell_type": "code",
   "execution_count": 11,
   "id": "f9f74892",
   "metadata": {},
   "outputs": [
    {
     "name": "stdout",
     "output_type": "stream",
     "text": [
      "[(5, 5), (7, 3), (12, 5), (23, 2)]\n"
     ]
    }
   ],
   "source": [
    "print([(i,x[0]) for i,x in enumerate(bg.board) if x[1]==0])"
   ]
  },
  {
   "cell_type": "code",
   "execution_count": 35,
   "id": "91020486",
   "metadata": {},
   "outputs": [
    {
     "data": {
      "text/plain": [
       "[(2, 1),\n",
       " (0, None),\n",
       " (0, None),\n",
       " (0, None),\n",
       " (0, None),\n",
       " (5, 0),\n",
       " (0, None),\n",
       " (3, 0),\n",
       " (0, None),\n",
       " (0, None),\n",
       " (0, None),\n",
       " (5, 1),\n",
       " (5, 0),\n",
       " (0, None),\n",
       " (0, None),\n",
       " (0, None),\n",
       " (3, 1),\n",
       " (0, None),\n",
       " (5, 1),\n",
       " (0, None),\n",
       " (0, None),\n",
       " (0, None),\n",
       " (0, None),\n",
       " (2, 0)]"
      ]
     },
     "execution_count": 35,
     "metadata": {},
     "output_type": "execute_result"
    }
   ],
   "source": [
    "bg.board"
   ]
  },
  {
   "cell_type": "code",
   "execution_count": 15,
   "id": "373661dc",
   "metadata": {},
   "outputs": [
    {
     "data": {
      "text/plain": [
       "[0, 0]"
      ]
     },
     "execution_count": 15,
     "metadata": {},
     "output_type": "execute_result"
    }
   ],
   "source": [
    "bg.bar"
   ]
  },
  {
   "cell_type": "code",
   "execution_count": 32,
   "id": "630171a0",
   "metadata": {},
   "outputs": [
    {
     "data": {
      "text/plain": [
       "[[5, 7, 12, 23], [0, 11, 16, 18]]"
      ]
     },
     "execution_count": 32,
     "metadata": {},
     "output_type": "execute_result"
    }
   ],
   "source": [
    "bg.get_players_positions()"
   ]
  },
  {
   "cell_type": "code",
   "execution_count": null,
   "id": "1d01e65e",
   "metadata": {},
   "outputs": [],
   "source": []
  }
 ],
 "metadata": {
  "kernelspec": {
   "display_name": "Python 3 (ipykernel)",
   "language": "python",
   "name": "python3"
  },
  "language_info": {
   "codemirror_mode": {
    "name": "ipython",
    "version": 3
   },
   "file_extension": ".py",
   "mimetype": "text/x-python",
   "name": "python",
   "nbconvert_exporter": "python",
   "pygments_lexer": "ipython3",
   "version": "3.10.9"
  }
 },
 "nbformat": 4,
 "nbformat_minor": 5
}
